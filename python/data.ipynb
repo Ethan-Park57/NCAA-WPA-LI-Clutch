{
 "cells": [
  {
   "cell_type": "code",
   "execution_count": 2,
   "metadata": {},
   "outputs": [],
   "source": [
    "# %pip install pandas\n",
    "# %pip install numpy\n",
    "# %pip install glob\n",
    "# %pip install matplotlib\n",
    "\n",
    "import pandas as pd\n",
    "import numpy as np\n",
    "import glob\n",
    "import matplotlib.pyplot as plt"
   ]
  },
  {
   "cell_type": "markdown",
   "metadata": {},
   "source": [
    "# Take raw pbp data from NCAA and add game state representations.\n",
    "\n",
    "# Also note the counts, WP, and transition probabilities for each game state."
   ]
  },
  {
   "cell_type": "code",
   "execution_count": null,
   "metadata": {},
   "outputs": [],
   "source": [
    "inning_values = np.arange(1, 10)\n",
    "top_values = [0, 1]\n",
    "outs_values = np.arange(0, 3)\n",
    "base_code_values = np.arange(0, 9)\n",
    "score_diff_values = np.arange(-10, 11)\n",
    "\n",
    "# Create all combinations of game states\n",
    "all_game_states = pd.DataFrame(np.array(np.meshgrid(\n",
    "    inning_values, \n",
    "    top_values, \n",
    "    outs_values, \n",
    "    base_code_values, \n",
    "    score_diff_values\n",
    "    )).T.reshape(-1, 5), \n",
    "    columns=['Inning', 'Top', 'Outs', 'BaseCode', 'ScoreDiff'])\n",
    "\n",
    "\n",
    "# I: Inning\n",
    "# T: Top (0) or Bottom (1)\n",
    "# O: Outs\n",
    "# B: BaseCode\n",
    "# S: ScoreDiff\n",
    "def create_game_states(innings, tops, outs, base_codes, score_diffs):\n",
    "    game_states = []\n",
    "    for i in range(len(innings)):\n",
    "        game_states.append(f'{innings[i]}_{tops[i]}_{outs[i]}_{base_codes[i]}_{score_diffs[i]}')\n",
    "    return game_states\n",
    "\n",
    "all_game_states.index = create_game_states(\n",
    "    all_game_states['Inning'], \n",
    "    all_game_states['Top'], \n",
    "    all_game_states['Outs'], \n",
    "    all_game_states['BaseCode'], \n",
    "    all_game_states['ScoreDiff']\n",
    "    )\n",
    "\n",
    "game_state_totals = pd.DataFrame(0, index=all_game_states.index, columns=['N', 'Wins'])\n",
    "all_game_states = all_game_states.drop(['Inning', 'Top', 'Outs', 'BaseCode', 'ScoreDiff'], axis=1)\n",
    "state_transition_matrix = pd.DataFrame(0, index=all_game_states.index, columns=all_game_states.index)\n",
    "\n",
    "# read all csvs in ../R/data/pbps directory or subdirectories\n",
    "csv_files = glob.glob('../R/data/raw-pbps/*/*.csv', recursive=True)\n",
    "n = len(csv_files)\n",
    "for i, file in enumerate(csv_files):\n",
    "    # Print checkpoints at every 5000 files\n",
    "    # if (i % 5000 == 0):\n",
    "    #     print(f'{i}/{n}')\n",
    "    print(f'{i}/{n}')\n",
    "\n",
    "    pbp_df = pd.read_csv(file, index_col=None, header=0)\n",
    "    if (pbp_df.shape[0] == 0 or 'top_inning' not in pbp_df.columns):\n",
    "        print('Data Error')\n",
    "        continue\n",
    "\n",
    "    pbp_df['game_state'] = create_game_states(\n",
    "        pbp_df['inning'], \n",
    "        pbp_df['top_inning'], \n",
    "        pbp_df['outs_before'], \n",
    "        pbp_df['base_cd_before'], \n",
    "        np.maximum(np.minimum(pbp_df['home_score_before'] - pbp_df['away_score_before'], 10), -10)\n",
    "        )\n",
    "    \n",
    "    pbp_df['next_game_state'] = pbp_df['game_state'].shift(-1)\n",
    "    # pbp_df.to_csv('./data/pbp-with-pitchers-with-game-states/' + file.split('/')[-1], index=False)\n",
    "\n",
    "    game_state_totals.loc[pbp_df['game_state'], 'N'] += 1\n",
    "    if (pbp_df['won'].all()):\n",
    "        game_state_totals.loc[pbp_df['game_state'], 'Wins'] += 1\n",
    "\n",
    "    for index, row in pbp_df.iterrows():\n",
    "        if row['next_game_state'] in state_transition_matrix.index:\n",
    "            state_transition_matrix.loc[row['game_state'], row['next_game_state']] += 1\n",
    "\n",
    "game_state_totals = game_state_totals.loc[game_state_totals['N'] > 0]\n",
    "game_state_totals['WP'] = game_state_totals['Wins'] / game_state_totals['N']\n",
    "\n",
    "n_game_states_observed = game_state_totals['N'].sum()\n",
    "game_state_totals['freq'] = game_state_totals['N'] / n_game_states_observed\n",
    "\n",
    "game_state_totals.to_csv('./data/game-state-totals.csv')\n",
    "\n",
    "def calculate_transition_probabilities(row):\n",
    "    row_sum = row.sum()\n",
    "    return row / row_sum if row_sum != 0 else row\n",
    "\n",
    "transition_probability_matrix = state_transition_matrix.apply(calculate_transition_probabilities, axis=1)\n",
    "transition_probability_matrix.to_csv('./data/transition-probability-matrix.csv')"
   ]
  },
  {
   "cell_type": "markdown",
   "metadata": {},
   "source": [
    "# Calculate expected delta win probability from each game state.\n",
    "\n",
    "# Calculate average expected delta win probability for all game states."
   ]
  },
  {
   "cell_type": "code",
   "execution_count": null,
   "metadata": {},
   "outputs": [],
   "source": [
    "transition_probability_matrix = transition_probability_matrix.loc[game_state_totals.index, game_state_totals.index]\n",
    "\n",
    "print(f'Number of game states: {len(game_state_totals)}')\n",
    "print(f'Shape of transition probability matrix: {transition_probability_matrix.shape}')\n",
    "\n",
    "expected_game_state_delta_wpa = pd.DataFrame(index=game_state_totals.index)\n",
    "\n",
    "# Each key is an column (next_state) of transition_probability_matrix\n",
    "# Each value is a list of start_state (indices) in transition_probability_matrix that have a transition probability to the key\n",
    "weighted_delta_wpa_cols = {}\n",
    "for i, col in enumerate(transition_probability_matrix.columns):\n",
    "    print(f'Progress: {i+1}/{len(transition_probability_matrix.columns)}')\n",
    "\n",
    "    next_state_wp = game_state_totals.loc[col, 'WP']\n",
    "    weighted_delta_wpa_cols[col] = transition_probability_matrix[col] * np.square(next_state_wp - game_state_totals['WP'])\n",
    "\n",
    "weighted_game_state_delta_wpa = pd.concat(weighted_delta_wpa_cols.values(), axis=1)\n",
    "\n",
    "expected_game_state_delta_wpa['expected_delta_wpa'] = np.sqrt(weighted_game_state_delta_wpa.sum(axis=1))\n",
    "expected_game_state_delta_wpa = expected_game_state_delta_wpa[['expected_delta_wpa']]\n",
    "\n",
    "average_delta_wpa = np.sum(expected_game_state_delta_wpa['expected_delta_wpa'] * game_state_totals['freq']) \n",
    "print(f'Average \"game-state-agnostic\" delta WPA {average_delta_wpa}')\n",
    "\n",
    "expected_game_state_delta_wpa['LI'] = expected_game_state_delta_wpa['expected_delta_wpa'] / average_delta_wpa\n",
    "pd.concat([expected_game_state_delta_wpa, game_state_totals['freq']], axis = 1).to_csv('./data/expected-game-state-delta-wpa.csv')\n",
    "\n",
    "print(f'Number of rows with 0 expected delta wpa: {len(expected_game_state_delta_wpa.loc[expected_game_state_delta_wpa[\"expected_delta_wpa\"] == 0])}')"
   ]
  },
  {
   "cell_type": "markdown",
   "metadata": {},
   "source": [
    "# Make a histogram of expected_delta_wpa values"
   ]
  },
  {
   "cell_type": "code",
   "execution_count": 28,
   "metadata": {},
   "outputs": [
    {
     "data": {
      "image/png": "[encoded data removed]",
      "text/plain": [
       "<Figure size 640x480 with 1 Axes>"
      ]
     },
     "metadata": {},
     "output_type": "display_data"
    }
   ],
   "source": [
    "plt.hist(expected_game_state_delta_wpa['expected_delta_wpa'], bins=100)\n",
    "plt.title('Expected Delta WPA')\n",
    "plt.xlabel('Expected Delta WPA')\n",
    "plt.ylabel('Frequency')\n",
    "plt.show()\n"
   ]
  },
  {
   "cell_type": "code",
   "execution_count": 24,
   "metadata": {},
   "outputs": [
    {
     "ename": "KeyboardInterrupt",
     "evalue": "",
     "output_type": "error",
     "traceback": [
      "\u001b[0;31m---------------------------------------------------------------------------\u001b[0m",
      "\u001b[0;31mKeyboardInterrupt\u001b[0m                         Traceback (most recent call last)",
      "Cell \u001b[0;32mIn[24], line 3\u001b[0m\n\u001b[1;32m      1\u001b[0m n \u001b[38;5;241m=\u001b[39m \u001b[38;5;28mlen\u001b[39m(pbps)\n\u001b[0;32m----> 3\u001b[0m long_pbp_df \u001b[38;5;241m=\u001b[39m \u001b[43mpd\u001b[49m\u001b[38;5;241;43m.\u001b[39;49m\u001b[43mconcat\u001b[49m\u001b[43m(\u001b[49m\u001b[43mpbps\u001b[49m\u001b[43m)\u001b[49m\n\u001b[1;32m      4\u001b[0m long_pbp_df[\u001b[38;5;124m'\u001b[39m\u001b[38;5;124mWPA\u001b[39m\u001b[38;5;124m'\u001b[39m] \u001b[38;5;241m=\u001b[39m long_pbp_df\u001b[38;5;241m.\u001b[39mapply(\u001b[38;5;28;01mlambda\u001b[39;00m row: game_state_totals\u001b[38;5;241m.\u001b[39mloc[row[\u001b[38;5;124m'\u001b[39m\u001b[38;5;124mnext_game_state\u001b[39m\u001b[38;5;124m'\u001b[39m], \u001b[38;5;124m'\u001b[39m\u001b[38;5;124mWP\u001b[39m\u001b[38;5;124m'\u001b[39m] \u001b[38;5;241m-\u001b[39m game_state_totals\u001b[38;5;241m.\u001b[39mloc[row[\u001b[38;5;124m'\u001b[39m\u001b[38;5;124mgame_state\u001b[39m\u001b[38;5;124m'\u001b[39m], \u001b[38;5;124m'\u001b[39m\u001b[38;5;124mWP\u001b[39m\u001b[38;5;124m'\u001b[39m], axis\u001b[38;5;241m=\u001b[39m\u001b[38;5;241m1\u001b[39m)\n\u001b[1;32m      5\u001b[0m long_pbp_df[\u001b[38;5;124m'\u001b[39m\u001b[38;5;124mLI\u001b[39m\u001b[38;5;124m'\u001b[39m] \u001b[38;5;241m=\u001b[39m long_pbp_df\u001b[38;5;241m.\u001b[39mapply(\u001b[38;5;28;01mlambda\u001b[39;00m row: expected_game_state_delta_wpa\u001b[38;5;241m.\u001b[39mloc[row[\u001b[38;5;124m'\u001b[39m\u001b[38;5;124mgame_state\u001b[39m\u001b[38;5;124m'\u001b[39m], \u001b[38;5;124m'\u001b[39m\u001b[38;5;124mLI\u001b[39m\u001b[38;5;124m'\u001b[39m], axis\u001b[38;5;241m=\u001b[39m\u001b[38;5;241m1\u001b[39m)\n",
      "File \u001b[0;32m~/Library/Python/3.9/lib/python/site-packages/pandas/core/reshape/concat.py:393\u001b[0m, in \u001b[0;36mconcat\u001b[0;34m(objs, axis, join, ignore_index, keys, levels, names, verify_integrity, sort, copy)\u001b[0m\n\u001b[1;32m    378\u001b[0m     copy \u001b[38;5;241m=\u001b[39m \u001b[38;5;28;01mFalse\u001b[39;00m\n\u001b[1;32m    380\u001b[0m op \u001b[38;5;241m=\u001b[39m _Concatenator(\n\u001b[1;32m    381\u001b[0m     objs,\n\u001b[1;32m    382\u001b[0m     axis\u001b[38;5;241m=\u001b[39maxis,\n\u001b[0;32m   (...)\u001b[0m\n\u001b[1;32m    390\u001b[0m     sort\u001b[38;5;241m=\u001b[39msort,\n\u001b[1;32m    391\u001b[0m )\n\u001b[0;32m--> 393\u001b[0m \u001b[38;5;28;01mreturn\u001b[39;00m \u001b[43mop\u001b[49m\u001b[38;5;241;43m.\u001b[39;49m\u001b[43mget_result\u001b[49m\u001b[43m(\u001b[49m\u001b[43m)\u001b[49m\n",
      "File \u001b[0;32m~/Library/Python/3.9/lib/python/site-packages/pandas/core/reshape/concat.py:680\u001b[0m, in \u001b[0;36m_Concatenator.get_result\u001b[0;34m(self)\u001b[0m\n\u001b[1;32m    676\u001b[0m             indexers[ax] \u001b[38;5;241m=\u001b[39m obj_labels\u001b[38;5;241m.\u001b[39mget_indexer(new_labels)\n\u001b[1;32m    678\u001b[0m     mgrs_indexers\u001b[38;5;241m.\u001b[39mappend((obj\u001b[38;5;241m.\u001b[39m_mgr, indexers))\n\u001b[0;32m--> 680\u001b[0m new_data \u001b[38;5;241m=\u001b[39m \u001b[43mconcatenate_managers\u001b[49m\u001b[43m(\u001b[49m\n\u001b[1;32m    681\u001b[0m \u001b[43m    \u001b[49m\u001b[43mmgrs_indexers\u001b[49m\u001b[43m,\u001b[49m\u001b[43m \u001b[49m\u001b[38;5;28;43mself\u001b[39;49m\u001b[38;5;241;43m.\u001b[39;49m\u001b[43mnew_axes\u001b[49m\u001b[43m,\u001b[49m\u001b[43m \u001b[49m\u001b[43mconcat_axis\u001b[49m\u001b[38;5;241;43m=\u001b[39;49m\u001b[38;5;28;43mself\u001b[39;49m\u001b[38;5;241;43m.\u001b[39;49m\u001b[43mbm_axis\u001b[49m\u001b[43m,\u001b[49m\u001b[43m \u001b[49m\u001b[43mcopy\u001b[49m\u001b[38;5;241;43m=\u001b[39;49m\u001b[38;5;28;43mself\u001b[39;49m\u001b[38;5;241;43m.\u001b[39;49m\u001b[43mcopy\u001b[49m\n\u001b[1;32m    682\u001b[0m \u001b[43m\u001b[49m\u001b[43m)\u001b[49m\n\u001b[1;32m    683\u001b[0m \u001b[38;5;28;01mif\u001b[39;00m \u001b[38;5;129;01mnot\u001b[39;00m \u001b[38;5;28mself\u001b[39m\u001b[38;5;241m.\u001b[39mcopy \u001b[38;5;129;01mand\u001b[39;00m \u001b[38;5;129;01mnot\u001b[39;00m using_copy_on_write():\n\u001b[1;32m    684\u001b[0m     new_data\u001b[38;5;241m.\u001b[39m_consolidate_inplace()\n",
      "File \u001b[0;32m~/Library/Python/3.9/lib/python/site-packages/pandas/core/internals/concat.py:189\u001b[0m, in \u001b[0;36mconcatenate_managers\u001b[0;34m(mgrs_indexers, axes, concat_axis, copy)\u001b[0m\n\u001b[1;32m    187\u001b[0m     fastpath \u001b[38;5;241m=\u001b[39m blk\u001b[38;5;241m.\u001b[39mvalues\u001b[38;5;241m.\u001b[39mdtype \u001b[38;5;241m==\u001b[39m values\u001b[38;5;241m.\u001b[39mdtype\n\u001b[1;32m    188\u001b[0m \u001b[38;5;28;01melse\u001b[39;00m:\n\u001b[0;32m--> 189\u001b[0m     values \u001b[38;5;241m=\u001b[39m \u001b[43m_concatenate_join_units\u001b[49m\u001b[43m(\u001b[49m\u001b[43mjoin_units\u001b[49m\u001b[43m,\u001b[49m\u001b[43m \u001b[49m\u001b[43mcopy\u001b[49m\u001b[38;5;241;43m=\u001b[39;49m\u001b[43mcopy\u001b[49m\u001b[43m)\u001b[49m\n\u001b[1;32m    190\u001b[0m     fastpath \u001b[38;5;241m=\u001b[39m \u001b[38;5;28;01mFalse\u001b[39;00m\n\u001b[1;32m    192\u001b[0m \u001b[38;5;28;01mif\u001b[39;00m fastpath:\n",
      "File \u001b[0;32m~/Library/Python/3.9/lib/python/site-packages/pandas/core/internals/concat.py:486\u001b[0m, in \u001b[0;36m_concatenate_join_units\u001b[0;34m(join_units, copy)\u001b[0m\n\u001b[1;32m    483\u001b[0m     concat_values \u001b[38;5;241m=\u001b[39m ensure_block_shape(concat_values, \u001b[38;5;241m2\u001b[39m)\n\u001b[1;32m    485\u001b[0m \u001b[38;5;28;01melse\u001b[39;00m:\n\u001b[0;32m--> 486\u001b[0m     concat_values \u001b[38;5;241m=\u001b[39m \u001b[43mconcat_compat\u001b[49m\u001b[43m(\u001b[49m\u001b[43mto_concat\u001b[49m\u001b[43m,\u001b[49m\u001b[43m \u001b[49m\u001b[43maxis\u001b[49m\u001b[38;5;241;43m=\u001b[39;49m\u001b[38;5;241;43m1\u001b[39;49m\u001b[43m)\u001b[49m\n\u001b[1;32m    488\u001b[0m \u001b[38;5;28;01mif\u001b[39;00m empty_dtype \u001b[38;5;241m!=\u001b[39m empty_dtype_future:\n\u001b[1;32m    489\u001b[0m     \u001b[38;5;28;01mif\u001b[39;00m empty_dtype \u001b[38;5;241m==\u001b[39m concat_values\u001b[38;5;241m.\u001b[39mdtype:\n\u001b[1;32m    490\u001b[0m         \u001b[38;5;66;03m# GH#39122, GH#40893\u001b[39;00m\n",
      "File \u001b[0;32m~/Library/Python/3.9/lib/python/site-packages/pandas/core/dtypes/concat.py:78\u001b[0m, in \u001b[0;36mconcat_compat\u001b[0;34m(to_concat, axis, ea_compat_axis)\u001b[0m\n\u001b[1;32m     76\u001b[0m \u001b[38;5;28;01mif\u001b[39;00m \u001b[38;5;28misinstance\u001b[39m(obj, np\u001b[38;5;241m.\u001b[39mndarray):\n\u001b[1;32m     77\u001b[0m     to_concat_arrs \u001b[38;5;241m=\u001b[39m cast(\u001b[38;5;124m\"\u001b[39m\u001b[38;5;124mSequence[np.ndarray]\u001b[39m\u001b[38;5;124m\"\u001b[39m, to_concat)\n\u001b[0;32m---> 78\u001b[0m     \u001b[38;5;28;01mreturn\u001b[39;00m \u001b[43mnp\u001b[49m\u001b[38;5;241;43m.\u001b[39;49m\u001b[43mconcatenate\u001b[49m\u001b[43m(\u001b[49m\u001b[43mto_concat_arrs\u001b[49m\u001b[43m,\u001b[49m\u001b[43m \u001b[49m\u001b[43maxis\u001b[49m\u001b[38;5;241;43m=\u001b[39;49m\u001b[43maxis\u001b[49m\u001b[43m)\u001b[49m\n\u001b[1;32m     80\u001b[0m to_concat_eas \u001b[38;5;241m=\u001b[39m cast(\u001b[38;5;124m\"\u001b[39m\u001b[38;5;124mSequence[ExtensionArray]\u001b[39m\u001b[38;5;124m\"\u001b[39m, to_concat)\n\u001b[1;32m     81\u001b[0m \u001b[38;5;28;01mif\u001b[39;00m ea_compat_axis:\n\u001b[1;32m     82\u001b[0m     \u001b[38;5;66;03m# We have 1D objects, that don't support axis keyword\u001b[39;00m\n",
      "\u001b[0;31mKeyboardInterrupt\u001b[0m: "
     ]
    }
   ],
   "source": [
    "n = len(pbps)\n",
    "\n",
    "long_pbp_df = pd.concat(pbps)\n",
    "long_pbp_df['WPA'] = long_pbp_df.apply(lambda row: game_state_totals.loc[row['next_game_state'], 'WP'] - game_state_totals.loc[row['game_state'], 'WP'], axis=1)\n",
    "long_pbp_df['LI'] = long_pbp_df.apply(lambda row: expected_game_state_delta_wpa.loc[row['game_state'], 'LI'], axis=1)\n",
    "long_pbp_df['WPA / LI'] = long_pbp_df['WPA'] / pbp_df['LI']"
   ]
  },
  {
   "cell_type": "code",
   "execution_count": null,
   "metadata": {},
   "outputs": [],
   "source": []
  },
  {
   "cell_type": "code",
   "execution_count": null,
   "metadata": {},
   "outputs": [],
   "source": [
    "for inning in game_state_totals['Inning'].unique():\n",
    "    for top in [1, 0]:\n",
    "        game_state_totals.loc[(game_state_totals['Top'] == top) & (game_state_totals['Inning'] == inning)].groupby(['ScoreDiff'])['WP'].mean().plot.bar()\n",
    "        plt.title(f'{\"Top\" if top == 1 else \"Bottom\"} Inning {inning}')\n",
    "        plt.xlabel('Score Difference')\n",
    "        plt.ylabel('Win Probability')\n",
    "        plt.ylim(0, 1)\n",
    "        plt.savefig(f'./plots/{\"Top\" if top == 1 else \"Bottom\"}_inning_{inning}_score_diff.png')\n",
    "        plt.show()\n",
    "\n",
    "for inning in game_state_totals['Inning'].unique():\n",
    "    for top in [1, 0]:\n",
    "        game_state_totals.loc[(game_state_totals['Top'] == top) & (game_state_totals['Inning'] == inning)].groupby(['Outs'])['WP'].mean().plot.bar()\n",
    "        plt.title(f'{\"Top\" if top == 1 else \"Bottom\"} Inning {inning}')\n",
    "        plt.xlabel('Outs')\n",
    "        plt.ylabel('Win Probability')\n",
    "        plt.ylim(0, 1)\n",
    "        plt.savefig(f'./plots/{\"Top\" if top == 1 else \"Bottom\"}_inning_{inning}_outs.png')\n",
    "        plt.show()"
   ]
  }
 ],
 "metadata": {
  "kernelspec": {
   "display_name": "Python 3",
   "language": "python",
   "name": "python3"
  },
  "language_info": {
   "codemirror_mode": {
    "name": "ipython",
    "version": 3
   },
   "file_extension": ".py",
   "mimetype": "text/x-python",
   "name": "python",
   "nbconvert_exporter": "python",
   "pygments_lexer": "ipython3",
   "version": "3.9.6"
  }
 },
 "nbformat": 4,
 "nbformat_minor": 2
}
